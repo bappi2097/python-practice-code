{
 "cells": [
  {
   "cell_type": "code",
   "execution_count": 3,
   "metadata": {},
   "outputs": [],
   "source": [
    "#PYTHON3"
   ]
  },
  {
   "cell_type": "code",
   "execution_count": 4,
   "metadata": {},
   "outputs": [],
   "source": [
    "a = 10\n",
    "b = 2"
   ]
  },
  {
   "cell_type": "code",
   "execution_count": 9,
   "metadata": {},
   "outputs": [
    {
     "name": "stdout",
     "output_type": "stream",
     "text": [
      "Sum = 12\n",
      "Sub = 8\n",
      "Mul = 20\n",
      "power a^b = 100\n",
      "Div = 5.0\n"
     ]
    }
   ],
   "source": [
    "print(\"Sum = \"+str(a+b))\n",
    "print(\"Sub = \"+str(a-b))\n",
    "print(\"Mul = \"+str(a*b))\n",
    "print(\"power a^b = \"+ str(a**b))\n",
    "print(\"Div = \"+ str(a/b))"
   ]
  },
  {
   "cell_type": "code",
   "execution_count": 19,
   "metadata": {},
   "outputs": [
    {
     "name": "stdout",
     "output_type": "stream",
     "text": [
      "Bappi  saha\n",
      "Bappi Bappi Bappi \n"
     ]
    }
   ],
   "source": [
    "c = \"Bappi \"\n",
    "d = \"saha\"\n",
    "print(c+' '+d)\n",
    "print(c*3)"
   ]
  },
  {
   "cell_type": "code",
   "execution_count": 13,
   "metadata": {},
   "outputs": [
    {
     "name": "stdout",
     "output_type": "stream",
     "text": [
      "['bappi', 'saha', [1, 2], 1, True]\n"
     ]
    }
   ],
   "source": [
    "list1 = ['bappi', 'saha', [1,2], 1, True]\n",
    "print(list1)"
   ]
  },
  {
   "cell_type": "code",
   "execution_count": 14,
   "metadata": {},
   "outputs": [
    {
     "name": "stdout",
     "output_type": "stream",
     "text": [
      "bappi\n",
      "saha\n",
      "[1, 2]\n",
      "1\n",
      "True\n"
     ]
    }
   ],
   "source": [
    "for i in list1:\n",
    "    print(i)\n"
   ]
  },
  {
   "cell_type": "code",
   "execution_count": 20,
   "metadata": {},
   "outputs": [
    {
     "name": "stdout",
     "output_type": "stream",
     "text": [
      "<class 'list'>\n"
     ]
    }
   ],
   "source": [
    "print(type(list1))"
   ]
  },
  {
   "cell_type": "code",
   "execution_count": 21,
   "metadata": {},
   "outputs": [
    {
     "data": {
      "text/plain": [
       "type"
      ]
     },
     "execution_count": 21,
     "metadata": {},
     "output_type": "execute_result"
    }
   ],
   "source": [
    "type(type(list1))"
   ]
  },
  {
   "cell_type": "code",
   "execution_count": 28,
   "metadata": {},
   "outputs": [
    {
     "name": "stdout",
     "output_type": "stream",
     "text": [
      "\n",
      "list bappi\n",
      "\n",
      "list saha\n",
      "List in list 1 2 \n",
      "list 1\n",
      "\n",
      "list True\n"
     ]
    }
   ],
   "source": [
    "for i in list1:\n",
    "    if type(i) == type(list1):\n",
    "        print(\"List in list\", end = ' ')\n",
    "        for j in i:\n",
    "            print(j, end = ' ')\n",
    "    else:\n",
    "        print('\\nlist', end = ' ')\n",
    "        print(i)"
   ]
  },
  {
   "cell_type": "code",
   "execution_count": 29,
   "metadata": {},
   "outputs": [
    {
     "name": "stdout",
     "output_type": "stream",
     "text": [
      "1\n",
      "2\n",
      "3\n",
      "4\n",
      "5\n",
      "6\n",
      "7\n",
      "8\n",
      "9\n"
     ]
    }
   ],
   "source": [
    "for i in range(1,10):\n",
    "    print(i)"
   ]
  },
  {
   "cell_type": "code",
   "execution_count": 1,
   "metadata": {},
   "outputs": [
    {
     "name": "stdout",
     "output_type": "stream",
     "text": [
      "10\n"
     ]
    }
   ],
   "source": [
    "first = int(input())"
   ]
  },
  {
   "cell_type": "code",
   "execution_count": 2,
   "metadata": {},
   "outputs": [
    {
     "name": "stdout",
     "output_type": "stream",
     "text": [
      "11\n"
     ]
    }
   ],
   "source": [
    "second = int(input())"
   ]
  },
  {
   "cell_type": "code",
   "execution_count": 3,
   "metadata": {},
   "outputs": [
    {
     "name": "stdout",
     "output_type": "stream",
     "text": [
      "First is less than Second\n"
     ]
    }
   ],
   "source": [
    "if first > second:\n",
    "    print(\"First is greater than Second\")\n",
    "elif first < second:\n",
    "    print(\"First is less than Second\")\n",
    "else:\n",
    "    print(\"Both are same\")"
   ]
  },
  {
   "cell_type": "code",
   "execution_count": null,
   "metadata": {},
   "outputs": [],
   "source": []
  }
 ],
 "metadata": {
  "kernelspec": {
   "display_name": "Python 3",
   "language": "python",
   "name": "python3"
  },
  "language_info": {
   "codemirror_mode": {
    "name": "ipython",
    "version": 3
   },
   "file_extension": ".py",
   "mimetype": "text/x-python",
   "name": "python",
   "nbconvert_exporter": "python",
   "pygments_lexer": "ipython3",
   "version": "3.7.4"
  }
 },
 "nbformat": 4,
 "nbformat_minor": 2
}
